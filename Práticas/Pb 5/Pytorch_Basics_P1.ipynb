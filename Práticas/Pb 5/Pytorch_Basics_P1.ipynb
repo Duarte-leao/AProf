{
 "cells": [
  {
   "cell_type": "markdown",
   "id": "1effc326",
   "metadata": {},
   "source": [
    "### Deep Learning Course\n",
    "     \n",
    "2021/2022\n",
    "***\n",
    "Gonçalo Faria, Rita Ramos, Marcos Treviso\n",
    "***\n",
    "# Pytorch Basics\n",
    "\n",
    "Pytorch is a platform for deep learning in Python/C++. It provides tools for efficiently creating, training, testing and analyzing neural networks. \n",
    "\n",
    "We devided the lab in 2 parts, showing PyTorch serves two broad purposes: \n",
    "* PART I : A replacement for NumPy to use the power of GPUs. \n",
    "* PART II : An automatic differentiation library that is useful to implement neural networks. "
   ]
  },
  {
   "cell_type": "code",
   "execution_count": 24,
   "id": "38507ae6",
   "metadata": {},
   "outputs": [],
   "source": [
    "%matplotlib inline\n",
    "import torch\n",
    "import numpy as np\n",
    "import matplotlib.pyplot as plt"
   ]
  },
  {
   "cell_type": "markdown",
   "id": "39444815",
   "metadata": {},
   "source": [
    "# Tensors"
   ]
  },
  {
   "cell_type": "markdown",
   "id": "10787bbc",
   "metadata": {},
   "source": [
    "Here we introduce the most fundamental PyTorch concept: the [Tensor](https://pytorch.org/tutorials/beginner/pytorch_with_examples.html).\n",
    "\n",
    "### PyTorch Tensor vs. Numpy\n",
    "\n",
    "\n",
    "#### Numpy\n",
    "\n",
    "Numpy is a great framework, but it cannot utilize GPUs to accelerate its numerical computations. \n",
    "\n",
    "For modern deep neural networks, GPUs often provide speedups of 50x or greater, so unfortunately numpy won’t be enough for modern deep learning.\n",
    "\n",
    "#### PyTorch Tensor\n",
    "\n",
    "A PyTorch Tensor is similar to a numpy array: both datatypes store n-dimensional arrays, and they support similar operations.    \n",
    "\n",
    "Unlike numpy arrays, PyTorch tensors can utilize GPUs (or other hardware accelerators) to perform numeric computations faster. Behind the scenes, Tensors can keep track of a computational graph and gradients, which makes them ideal for training neural networks with gradient-based techniques."
   ]
  },
  {
   "cell_type": "code",
   "execution_count": 25,
   "id": "f66ce038",
   "metadata": {},
   "outputs": [
    {
     "name": "stdout",
     "output_type": "stream",
     "text": [
      "v1: [2 4 6 8]\n",
      "v2: tensor([2, 4, 6, 8])\n",
      "\n",
      "shape v2: torch.Size([4])\n"
     ]
    }
   ],
   "source": [
    "#with numpy:\n",
    "v1 = np.array([2, 4, 6, 8])\n",
    "\n",
    "#with pytorch:\n",
    "v2 = torch.tensor([2, 4, 6, 8]) \n",
    "\n",
    "print(\"v1:\", v1)\n",
    "print(\"v2:\", v2)\n",
    "\n",
    "print(\"\\nshape v2:\", v2.shape) #one-dimensional tensor of size 4 (vector)"
   ]
  },
  {
   "cell_type": "markdown",
   "id": "96008353",
   "metadata": {},
   "source": [
    "# Tensor Initialization"
   ]
  },
  {
   "cell_type": "markdown",
   "id": "48441551",
   "metadata": {},
   "source": [
    "A tensor can be initialized directly from different ways, such as: \n",
    "   - data/manually\n",
    "   - numpy\n",
    "   - randomly\n",
    "   - constant values"
   ]
  },
  {
   "cell_type": "code",
   "execution_count": 26,
   "id": "e772ed83",
   "metadata": {},
   "outputs": [
    {
     "name": "stdout",
     "output_type": "stream",
     "text": [
      "x_data tensor([1, 2, 3])\n",
      "\n",
      "np_array [1 2 3]\n",
      "x_np_ex1 tensor([1, 2, 3])\n",
      "x_np_ex2 tensor([1, 2, 3])\n",
      "\n",
      "modified np_array [10  2  3]\n",
      "x_np_ex1 tensor([10,  2,  3])\n",
      "x_np_ex2 tensor([1, 2, 3])\n",
      "\n",
      "x_rand tensor([0.5137, 0.0750, 0.9502])\n",
      "x_ones_ex1 tensor([[1., 1., 1.]])\n",
      "x_ones_ex2 tensor([[1.],\n",
      "        [1.],\n",
      "        [1.]])\n",
      "x_zeros tensor([0., 0., 0.])\n",
      "x_ordered tensor([3, 4, 5])\n"
     ]
    }
   ],
   "source": [
    "#from data/manually\n",
    "data = [1, 2, 3]\n",
    "x_data = torch.tensor(data)\n",
    "print(\"x_data\", x_data)\n",
    "\n",
    "\n",
    "#from numpy\n",
    "np_array = np.array(data)\n",
    "x_np_ex1 = torch.from_numpy(np_array) #same memory (the tensor shares the same data) -> changes to np_array impact the tensor\n",
    "x_np_ex2 = torch.tensor(np_array) # a new tensor is created (\"clone\") -> changes to np_array have NO impact on the tensor\n",
    "\n",
    "print(\"\\nnp_array\", np_array)\n",
    "print(\"x_np_ex1\", x_np_ex1)\n",
    "print(\"x_np_ex2\", x_np_ex2)\n",
    "\n",
    "np_array[0] = 10 #Changes to np_array impact the tensor initialized \"from_numpy\"\n",
    "print(\"\\nmodified np_array\", np_array)\n",
    "print(\"x_np_ex1\", x_np_ex1) #affected\n",
    "print(\"x_np_ex2\", x_np_ex2) \n",
    " \n",
    "\n",
    "# randomly, constant, etc.\n",
    "x_rand = torch.rand((3)) \n",
    "x_ones_ex1 = torch.ones((1, 3)) # one row with 3 collumns (like numpy)\n",
    "x_ones_ex2 = torch.ones((3, 1)) # 3 rows with 1 collumns (like numpy)\n",
    "x_zeros = torch.zeros(3)\n",
    "x_ordered = torch.arange(3, 6)\n",
    "\n",
    "print(\"\\nx_rand\", x_rand)\n",
    "print(\"x_ones_ex1\", x_ones_ex1)\n",
    "print(\"x_ones_ex2\", x_ones_ex2)\n",
    "print(\"x_zeros\", x_zeros)\n",
    "print(\"x_ordered\", x_ordered)"
   ]
  },
  {
   "cell_type": "markdown",
   "id": "64f9dec2",
   "metadata": {},
   "source": [
    "# Tensor attributes:"
   ]
  },
  {
   "cell_type": "markdown",
   "id": "ff50bdf7",
   "metadata": {},
   "source": [
    "Tensor attributes describe their <b> shape</b>, <b>datatype</b>, and the <b>device</b> on which they are stored."
   ]
  },
  {
   "cell_type": "code",
   "execution_count": 27,
   "id": "b2ca5fdb",
   "metadata": {},
   "outputs": [
    {
     "name": "stdout",
     "output_type": "stream",
     "text": [
      "tensor([[0.6789, 0.9084, 0.3753]])\n",
      "\n",
      "Shape of tensor: torch.Size([1, 3])\n",
      "Datatype of tensor: torch.float32\n",
      "Device tensor is stored on: cpu\n"
     ]
    }
   ],
   "source": [
    "x = torch.rand((1, 3))\n",
    "print(x)\n",
    "print(\"\\nShape of tensor:\", x.shape) # you can also use tensor.size()\n",
    "print(\"Datatype of tensor:\", x.dtype)\n",
    "print(\"Device tensor is stored on:\", x.device) #we will see later on how to move to GPU, if available. "
   ]
  },
  {
   "cell_type": "markdown",
   "id": "64b39ca2",
   "metadata": {},
   "source": [
    "# Examples of tensors with different shapes"
   ]
  },
  {
   "cell_type": "markdown",
   "id": "db1e5aa0",
   "metadata": {},
   "source": [
    "### Scalar"
   ]
  },
  {
   "cell_type": "code",
   "execution_count": 28,
   "id": "bc05b31b",
   "metadata": {},
   "outputs": [
    {
     "name": "stdout",
     "output_type": "stream",
     "text": [
      "x: tensor(7)\n",
      "x value: 7\n",
      "shape: torch.Size([])\n"
     ]
    }
   ],
   "source": [
    "x = torch.tensor(7)\n",
    "\n",
    "print(\"x:\", x)\n",
    "print(\"x value:\", x.item())\n",
    "print(\"shape:\", x.size())"
   ]
  },
  {
   "cell_type": "markdown",
   "id": "2fe2b0ae",
   "metadata": {},
   "source": [
    "### Vector"
   ]
  },
  {
   "cell_type": "code",
   "execution_count": 29,
   "id": "63562065",
   "metadata": {},
   "outputs": [
    {
     "name": "stdout",
     "output_type": "stream",
     "text": [
      "x: tensor([7])\n",
      "shape: torch.Size([1])\n",
      "\n",
      "x: tensor([0.6515])\n",
      "shape: torch.Size([1])\n",
      "\n",
      "x: tensor([0., 0., 0.])\n",
      "shape: torch.Size([3])\n",
      "\n",
      "x: tensor([10, 11, 12, 13, 14, 15, 16])\n",
      "shape: torch.Size([7])\n"
     ]
    }
   ],
   "source": [
    "x = torch.tensor([7])\n",
    "print(\"x:\", x)\n",
    "print(\"shape:\", x.size())\n",
    "\n",
    "x = torch.rand(1)\n",
    "print(\"\\nx:\", x)\n",
    "print(\"shape:\", x.size())\n",
    "\n",
    "x = torch.zeros(3)\n",
    "print(\"\\nx:\", x)\n",
    "print(\"shape:\", x.size())\n",
    "\n",
    "x = torch.arange(10, 17)\n",
    "print(\"\\nx:\", x)\n",
    "print(\"shape:\", x.size())"
   ]
  },
  {
   "cell_type": "markdown",
   "id": "8e2df825",
   "metadata": {},
   "source": [
    "### Matrix"
   ]
  },
  {
   "cell_type": "code",
   "execution_count": 30,
   "id": "3274e120",
   "metadata": {},
   "outputs": [
    {
     "name": "stdout",
     "output_type": "stream",
     "text": [
      "x:\n",
      " tensor([[ 2,  4,  6,  8],\n",
      "        [ 1,  2,  3,  4],\n",
      "        [ 7,  8,  9, 10]])\n",
      "shape: torch.Size([3, 4])\n",
      "\n",
      "\n",
      "x: tensor([[1., 1.],\n",
      "        [1., 1.]])\n",
      "shape: torch.Size([2, 2])\n",
      "\n",
      "\n",
      "x: tensor([[0.],\n",
      "        [0.],\n",
      "        [0.]])\n",
      "shape: torch.Size([3, 1])\n",
      "\n",
      "\n",
      "nx: tensor([[0., 0., 0.]])\n",
      "shape: torch.Size([1, 3])\n",
      "\n",
      "\n",
      "x:\n",
      " tensor([[1, 2, 3],\n",
      "        [4, 5, 6],\n",
      "        [7, 8, 9]])\n",
      "shape: torch.Size([3, 3])\n"
     ]
    }
   ],
   "source": [
    "x = torch.tensor([[2, 4, 6,8], [1, 2, 3,4], [7, 8, 9,10]])\n",
    "\n",
    "print(\"x:\\n\", x)\n",
    "print(\"shape:\", x.size())\n",
    "\n",
    "x = torch.ones(2, 2)\n",
    "print(\"\\n\\nx:\", x)\n",
    "print(\"shape:\", x.size())\n",
    "\n",
    "x = torch.zeros(3, 1)\n",
    "print(\"\\n\\nx:\", x)\n",
    "print(\"shape:\", x.size())\n",
    "\n",
    "\n",
    "x = torch.zeros(1, 3)\n",
    "print(\"\\n\\nnx:\", x)\n",
    "print(\"shape:\", x.size())\n",
    "\n",
    "\n",
    "x= torch.arange(1, 10).view(3, 3) #view reshapes the tensor into a 3 by 3 matrix\n",
    "print(\"\\n\\nx:\\n\", x)\n",
    "print(\"shape:\", x.size())"
   ]
  },
  {
   "cell_type": "markdown",
   "id": "dd986996",
   "metadata": {},
   "source": [
    "### N-dimensional array\n",
    "\n",
    "Imagine you have an image with (256 w,  256 h,  3 channels).  "
   ]
  },
  {
   "cell_type": "code",
   "execution_count": 31,
   "id": "10d9bfb0",
   "metadata": {},
   "outputs": [
    {
     "name": "stdout",
     "output_type": "stream",
     "text": [
      "\n",
      "x: tensor([[[0.5909, 0.5704, 0.6766],\n",
      "         [0.9771, 0.7883, 0.5064],\n",
      "         [0.7817, 0.8638, 0.3586],\n",
      "         [0.2290, 0.4221, 0.4919],\n",
      "         [0.0623, 0.5447, 0.7263]],\n",
      "\n",
      "        [[0.8058, 0.4750, 0.4826],\n",
      "         [0.6060, 0.0751, 0.4560],\n",
      "         [0.1548, 0.9278, 0.9967],\n",
      "         [0.5356, 0.7814, 0.9352],\n",
      "         [0.0518, 0.1771, 0.7220]],\n",
      "\n",
      "        [[0.6040, 0.8810, 0.2602],\n",
      "         [0.9277, 0.5776, 0.7868],\n",
      "         [0.2128, 0.1125, 0.6718],\n",
      "         [0.9720, 0.9029, 0.7324],\n",
      "         [0.5129, 0.6961, 0.3349]],\n",
      "\n",
      "        [[0.2779, 0.3309, 0.1639],\n",
      "         [0.1473, 0.5443, 0.7085],\n",
      "         [0.9247, 0.1969, 0.7367],\n",
      "         [0.3480, 0.8934, 0.4501],\n",
      "         [0.0401, 0.0370, 0.7977]],\n",
      "\n",
      "        [[0.8333, 0.0026, 0.9844],\n",
      "         [0.0261, 0.2384, 0.0117],\n",
      "         [0.6167, 0.1412, 0.3586],\n",
      "         [0.2427, 0.5737, 0.1998],\n",
      "         [0.4529, 0.2098, 0.7251]]])\n",
      "shape: torch.Size([5, 5, 3])\n"
     ]
    }
   ],
   "source": [
    "x=torch.rand((5, 5, 3))\n",
    "print(\"\\nx:\", x)\n",
    "print(\"shape:\", x.size())"
   ]
  },
  {
   "cell_type": "markdown",
   "id": "7211a4ff",
   "metadata": {},
   "source": [
    "Example of an actual image and having it stored in a tensor"
   ]
  },
  {
   "cell_type": "code",
   "execution_count": 32,
   "id": "842af3de",
   "metadata": {},
   "outputs": [
    {
     "ename": "ConnectionError",
     "evalue": "HTTPConnectionPool(host='images.cocodataset.org', port=80): Max retries exceeded with url: /val2017/000000039769.jpg (Caused by NewConnectionError('<urllib3.connection.HTTPConnection object at 0x7f6a8dbdf3a0>: Failed to establish a new connection: [Errno -3] Temporary failure in name resolution'))",
     "output_type": "error",
     "traceback": [
      "\u001b[0;31m---------------------------------------------------------------------------\u001b[0m",
      "\u001b[0;31mgaierror\u001b[0m                                  Traceback (most recent call last)",
      "\u001b[0;32m~/anaconda3/envs/IST_DL21_Env/lib/python3.8/site-packages/urllib3/connection.py\u001b[0m in \u001b[0;36m_new_conn\u001b[0;34m(self)\u001b[0m\n\u001b[1;32m    173\u001b[0m         \u001b[0;32mtry\u001b[0m\u001b[0;34m:\u001b[0m\u001b[0;34m\u001b[0m\u001b[0;34m\u001b[0m\u001b[0m\n\u001b[0;32m--> 174\u001b[0;31m             conn = connection.create_connection(\n\u001b[0m\u001b[1;32m    175\u001b[0m                 \u001b[0;34m(\u001b[0m\u001b[0mself\u001b[0m\u001b[0;34m.\u001b[0m\u001b[0m_dns_host\u001b[0m\u001b[0;34m,\u001b[0m \u001b[0mself\u001b[0m\u001b[0;34m.\u001b[0m\u001b[0mport\u001b[0m\u001b[0;34m)\u001b[0m\u001b[0;34m,\u001b[0m \u001b[0mself\u001b[0m\u001b[0;34m.\u001b[0m\u001b[0mtimeout\u001b[0m\u001b[0;34m,\u001b[0m \u001b[0;34m**\u001b[0m\u001b[0mextra_kw\u001b[0m\u001b[0;34m\u001b[0m\u001b[0;34m\u001b[0m\u001b[0m\n",
      "\u001b[0;32m~/anaconda3/envs/IST_DL21_Env/lib/python3.8/site-packages/urllib3/util/connection.py\u001b[0m in \u001b[0;36mcreate_connection\u001b[0;34m(address, timeout, source_address, socket_options)\u001b[0m\n\u001b[1;32m     72\u001b[0m \u001b[0;34m\u001b[0m\u001b[0m\n\u001b[0;32m---> 73\u001b[0;31m     \u001b[0;32mfor\u001b[0m \u001b[0mres\u001b[0m \u001b[0;32min\u001b[0m \u001b[0msocket\u001b[0m\u001b[0;34m.\u001b[0m\u001b[0mgetaddrinfo\u001b[0m\u001b[0;34m(\u001b[0m\u001b[0mhost\u001b[0m\u001b[0;34m,\u001b[0m \u001b[0mport\u001b[0m\u001b[0;34m,\u001b[0m \u001b[0mfamily\u001b[0m\u001b[0;34m,\u001b[0m \u001b[0msocket\u001b[0m\u001b[0;34m.\u001b[0m\u001b[0mSOCK_STREAM\u001b[0m\u001b[0;34m)\u001b[0m\u001b[0;34m:\u001b[0m\u001b[0;34m\u001b[0m\u001b[0;34m\u001b[0m\u001b[0m\n\u001b[0m\u001b[1;32m     74\u001b[0m         \u001b[0maf\u001b[0m\u001b[0;34m,\u001b[0m \u001b[0msocktype\u001b[0m\u001b[0;34m,\u001b[0m \u001b[0mproto\u001b[0m\u001b[0;34m,\u001b[0m \u001b[0mcanonname\u001b[0m\u001b[0;34m,\u001b[0m \u001b[0msa\u001b[0m \u001b[0;34m=\u001b[0m \u001b[0mres\u001b[0m\u001b[0;34m\u001b[0m\u001b[0;34m\u001b[0m\u001b[0m\n",
      "\u001b[0;32m~/anaconda3/envs/IST_DL21_Env/lib/python3.8/socket.py\u001b[0m in \u001b[0;36mgetaddrinfo\u001b[0;34m(host, port, family, type, proto, flags)\u001b[0m\n\u001b[1;32m    917\u001b[0m     \u001b[0maddrlist\u001b[0m \u001b[0;34m=\u001b[0m \u001b[0;34m[\u001b[0m\u001b[0;34m]\u001b[0m\u001b[0;34m\u001b[0m\u001b[0;34m\u001b[0m\u001b[0m\n\u001b[0;32m--> 918\u001b[0;31m     \u001b[0;32mfor\u001b[0m \u001b[0mres\u001b[0m \u001b[0;32min\u001b[0m \u001b[0m_socket\u001b[0m\u001b[0;34m.\u001b[0m\u001b[0mgetaddrinfo\u001b[0m\u001b[0;34m(\u001b[0m\u001b[0mhost\u001b[0m\u001b[0;34m,\u001b[0m \u001b[0mport\u001b[0m\u001b[0;34m,\u001b[0m \u001b[0mfamily\u001b[0m\u001b[0;34m,\u001b[0m \u001b[0mtype\u001b[0m\u001b[0;34m,\u001b[0m \u001b[0mproto\u001b[0m\u001b[0;34m,\u001b[0m \u001b[0mflags\u001b[0m\u001b[0;34m)\u001b[0m\u001b[0;34m:\u001b[0m\u001b[0;34m\u001b[0m\u001b[0;34m\u001b[0m\u001b[0m\n\u001b[0m\u001b[1;32m    919\u001b[0m         \u001b[0maf\u001b[0m\u001b[0;34m,\u001b[0m \u001b[0msocktype\u001b[0m\u001b[0;34m,\u001b[0m \u001b[0mproto\u001b[0m\u001b[0;34m,\u001b[0m \u001b[0mcanonname\u001b[0m\u001b[0;34m,\u001b[0m \u001b[0msa\u001b[0m \u001b[0;34m=\u001b[0m \u001b[0mres\u001b[0m\u001b[0;34m\u001b[0m\u001b[0;34m\u001b[0m\u001b[0m\n",
      "\u001b[0;31mgaierror\u001b[0m: [Errno -3] Temporary failure in name resolution",
      "\nDuring handling of the above exception, another exception occurred:\n",
      "\u001b[0;31mNewConnectionError\u001b[0m                        Traceback (most recent call last)",
      "\u001b[0;32m~/anaconda3/envs/IST_DL21_Env/lib/python3.8/site-packages/urllib3/connectionpool.py\u001b[0m in \u001b[0;36murlopen\u001b[0;34m(self, method, url, body, headers, retries, redirect, assert_same_host, timeout, pool_timeout, release_conn, chunked, body_pos, **response_kw)\u001b[0m\n\u001b[1;32m    698\u001b[0m             \u001b[0;31m# Make the request on the httplib connection object.\u001b[0m\u001b[0;34m\u001b[0m\u001b[0;34m\u001b[0m\u001b[0;34m\u001b[0m\u001b[0m\n\u001b[0;32m--> 699\u001b[0;31m             httplib_response = self._make_request(\n\u001b[0m\u001b[1;32m    700\u001b[0m                 \u001b[0mconn\u001b[0m\u001b[0;34m,\u001b[0m\u001b[0;34m\u001b[0m\u001b[0;34m\u001b[0m\u001b[0m\n",
      "\u001b[0;32m~/anaconda3/envs/IST_DL21_Env/lib/python3.8/site-packages/urllib3/connectionpool.py\u001b[0m in \u001b[0;36m_make_request\u001b[0;34m(self, conn, method, url, timeout, chunked, **httplib_request_kw)\u001b[0m\n\u001b[1;32m    393\u001b[0m             \u001b[0;32melse\u001b[0m\u001b[0;34m:\u001b[0m\u001b[0;34m\u001b[0m\u001b[0;34m\u001b[0m\u001b[0m\n\u001b[0;32m--> 394\u001b[0;31m                 \u001b[0mconn\u001b[0m\u001b[0;34m.\u001b[0m\u001b[0mrequest\u001b[0m\u001b[0;34m(\u001b[0m\u001b[0mmethod\u001b[0m\u001b[0;34m,\u001b[0m \u001b[0murl\u001b[0m\u001b[0;34m,\u001b[0m \u001b[0;34m**\u001b[0m\u001b[0mhttplib_request_kw\u001b[0m\u001b[0;34m)\u001b[0m\u001b[0;34m\u001b[0m\u001b[0;34m\u001b[0m\u001b[0m\n\u001b[0m\u001b[1;32m    395\u001b[0m \u001b[0;34m\u001b[0m\u001b[0m\n",
      "\u001b[0;32m~/anaconda3/envs/IST_DL21_Env/lib/python3.8/site-packages/urllib3/connection.py\u001b[0m in \u001b[0;36mrequest\u001b[0;34m(self, method, url, body, headers)\u001b[0m\n\u001b[1;32m    238\u001b[0m             \u001b[0mheaders\u001b[0m\u001b[0;34m[\u001b[0m\u001b[0;34m\"User-Agent\"\u001b[0m\u001b[0;34m]\u001b[0m \u001b[0;34m=\u001b[0m \u001b[0m_get_default_user_agent\u001b[0m\u001b[0;34m(\u001b[0m\u001b[0;34m)\u001b[0m\u001b[0;34m\u001b[0m\u001b[0;34m\u001b[0m\u001b[0m\n\u001b[0;32m--> 239\u001b[0;31m         \u001b[0msuper\u001b[0m\u001b[0;34m(\u001b[0m\u001b[0mHTTPConnection\u001b[0m\u001b[0;34m,\u001b[0m \u001b[0mself\u001b[0m\u001b[0;34m)\u001b[0m\u001b[0;34m.\u001b[0m\u001b[0mrequest\u001b[0m\u001b[0;34m(\u001b[0m\u001b[0mmethod\u001b[0m\u001b[0;34m,\u001b[0m \u001b[0murl\u001b[0m\u001b[0;34m,\u001b[0m \u001b[0mbody\u001b[0m\u001b[0;34m=\u001b[0m\u001b[0mbody\u001b[0m\u001b[0;34m,\u001b[0m \u001b[0mheaders\u001b[0m\u001b[0;34m=\u001b[0m\u001b[0mheaders\u001b[0m\u001b[0;34m)\u001b[0m\u001b[0;34m\u001b[0m\u001b[0;34m\u001b[0m\u001b[0m\n\u001b[0m\u001b[1;32m    240\u001b[0m \u001b[0;34m\u001b[0m\u001b[0m\n",
      "\u001b[0;32m~/anaconda3/envs/IST_DL21_Env/lib/python3.8/http/client.py\u001b[0m in \u001b[0;36mrequest\u001b[0;34m(self, method, url, body, headers, encode_chunked)\u001b[0m\n\u001b[1;32m   1255\u001b[0m         \u001b[0;34m\"\"\"Send a complete request to the server.\"\"\"\u001b[0m\u001b[0;34m\u001b[0m\u001b[0;34m\u001b[0m\u001b[0m\n\u001b[0;32m-> 1256\u001b[0;31m         \u001b[0mself\u001b[0m\u001b[0;34m.\u001b[0m\u001b[0m_send_request\u001b[0m\u001b[0;34m(\u001b[0m\u001b[0mmethod\u001b[0m\u001b[0;34m,\u001b[0m \u001b[0murl\u001b[0m\u001b[0;34m,\u001b[0m \u001b[0mbody\u001b[0m\u001b[0;34m,\u001b[0m \u001b[0mheaders\u001b[0m\u001b[0;34m,\u001b[0m \u001b[0mencode_chunked\u001b[0m\u001b[0;34m)\u001b[0m\u001b[0;34m\u001b[0m\u001b[0;34m\u001b[0m\u001b[0m\n\u001b[0m\u001b[1;32m   1257\u001b[0m \u001b[0;34m\u001b[0m\u001b[0m\n",
      "\u001b[0;32m~/anaconda3/envs/IST_DL21_Env/lib/python3.8/http/client.py\u001b[0m in \u001b[0;36m_send_request\u001b[0;34m(self, method, url, body, headers, encode_chunked)\u001b[0m\n\u001b[1;32m   1301\u001b[0m             \u001b[0mbody\u001b[0m \u001b[0;34m=\u001b[0m \u001b[0m_encode\u001b[0m\u001b[0;34m(\u001b[0m\u001b[0mbody\u001b[0m\u001b[0;34m,\u001b[0m \u001b[0;34m'body'\u001b[0m\u001b[0;34m)\u001b[0m\u001b[0;34m\u001b[0m\u001b[0;34m\u001b[0m\u001b[0m\n\u001b[0;32m-> 1302\u001b[0;31m         \u001b[0mself\u001b[0m\u001b[0;34m.\u001b[0m\u001b[0mendheaders\u001b[0m\u001b[0;34m(\u001b[0m\u001b[0mbody\u001b[0m\u001b[0;34m,\u001b[0m \u001b[0mencode_chunked\u001b[0m\u001b[0;34m=\u001b[0m\u001b[0mencode_chunked\u001b[0m\u001b[0;34m)\u001b[0m\u001b[0;34m\u001b[0m\u001b[0;34m\u001b[0m\u001b[0m\n\u001b[0m\u001b[1;32m   1303\u001b[0m \u001b[0;34m\u001b[0m\u001b[0m\n",
      "\u001b[0;32m~/anaconda3/envs/IST_DL21_Env/lib/python3.8/http/client.py\u001b[0m in \u001b[0;36mendheaders\u001b[0;34m(self, message_body, encode_chunked)\u001b[0m\n\u001b[1;32m   1250\u001b[0m             \u001b[0;32mraise\u001b[0m \u001b[0mCannotSendHeader\u001b[0m\u001b[0;34m(\u001b[0m\u001b[0;34m)\u001b[0m\u001b[0;34m\u001b[0m\u001b[0;34m\u001b[0m\u001b[0m\n\u001b[0;32m-> 1251\u001b[0;31m         \u001b[0mself\u001b[0m\u001b[0;34m.\u001b[0m\u001b[0m_send_output\u001b[0m\u001b[0;34m(\u001b[0m\u001b[0mmessage_body\u001b[0m\u001b[0;34m,\u001b[0m \u001b[0mencode_chunked\u001b[0m\u001b[0;34m=\u001b[0m\u001b[0mencode_chunked\u001b[0m\u001b[0;34m)\u001b[0m\u001b[0;34m\u001b[0m\u001b[0;34m\u001b[0m\u001b[0m\n\u001b[0m\u001b[1;32m   1252\u001b[0m \u001b[0;34m\u001b[0m\u001b[0m\n",
      "\u001b[0;32m~/anaconda3/envs/IST_DL21_Env/lib/python3.8/http/client.py\u001b[0m in \u001b[0;36m_send_output\u001b[0;34m(self, message_body, encode_chunked)\u001b[0m\n\u001b[1;32m   1010\u001b[0m         \u001b[0;32mdel\u001b[0m \u001b[0mself\u001b[0m\u001b[0;34m.\u001b[0m\u001b[0m_buffer\u001b[0m\u001b[0;34m[\u001b[0m\u001b[0;34m:\u001b[0m\u001b[0;34m]\u001b[0m\u001b[0;34m\u001b[0m\u001b[0;34m\u001b[0m\u001b[0m\n\u001b[0;32m-> 1011\u001b[0;31m         \u001b[0mself\u001b[0m\u001b[0;34m.\u001b[0m\u001b[0msend\u001b[0m\u001b[0;34m(\u001b[0m\u001b[0mmsg\u001b[0m\u001b[0;34m)\u001b[0m\u001b[0;34m\u001b[0m\u001b[0;34m\u001b[0m\u001b[0m\n\u001b[0m\u001b[1;32m   1012\u001b[0m \u001b[0;34m\u001b[0m\u001b[0m\n",
      "\u001b[0;32m~/anaconda3/envs/IST_DL21_Env/lib/python3.8/http/client.py\u001b[0m in \u001b[0;36msend\u001b[0;34m(self, data)\u001b[0m\n\u001b[1;32m    950\u001b[0m             \u001b[0;32mif\u001b[0m \u001b[0mself\u001b[0m\u001b[0;34m.\u001b[0m\u001b[0mauto_open\u001b[0m\u001b[0;34m:\u001b[0m\u001b[0;34m\u001b[0m\u001b[0;34m\u001b[0m\u001b[0m\n\u001b[0;32m--> 951\u001b[0;31m                 \u001b[0mself\u001b[0m\u001b[0;34m.\u001b[0m\u001b[0mconnect\u001b[0m\u001b[0;34m(\u001b[0m\u001b[0;34m)\u001b[0m\u001b[0;34m\u001b[0m\u001b[0;34m\u001b[0m\u001b[0m\n\u001b[0m\u001b[1;32m    952\u001b[0m             \u001b[0;32melse\u001b[0m\u001b[0;34m:\u001b[0m\u001b[0;34m\u001b[0m\u001b[0;34m\u001b[0m\u001b[0m\n",
      "\u001b[0;32m~/anaconda3/envs/IST_DL21_Env/lib/python3.8/site-packages/urllib3/connection.py\u001b[0m in \u001b[0;36mconnect\u001b[0;34m(self)\u001b[0m\n\u001b[1;32m    204\u001b[0m     \u001b[0;32mdef\u001b[0m \u001b[0mconnect\u001b[0m\u001b[0;34m(\u001b[0m\u001b[0mself\u001b[0m\u001b[0;34m)\u001b[0m\u001b[0;34m:\u001b[0m\u001b[0;34m\u001b[0m\u001b[0;34m\u001b[0m\u001b[0m\n\u001b[0;32m--> 205\u001b[0;31m         \u001b[0mconn\u001b[0m \u001b[0;34m=\u001b[0m \u001b[0mself\u001b[0m\u001b[0;34m.\u001b[0m\u001b[0m_new_conn\u001b[0m\u001b[0;34m(\u001b[0m\u001b[0;34m)\u001b[0m\u001b[0;34m\u001b[0m\u001b[0;34m\u001b[0m\u001b[0m\n\u001b[0m\u001b[1;32m    206\u001b[0m         \u001b[0mself\u001b[0m\u001b[0;34m.\u001b[0m\u001b[0m_prepare_conn\u001b[0m\u001b[0;34m(\u001b[0m\u001b[0mconn\u001b[0m\u001b[0;34m)\u001b[0m\u001b[0;34m\u001b[0m\u001b[0;34m\u001b[0m\u001b[0m\n",
      "\u001b[0;32m~/anaconda3/envs/IST_DL21_Env/lib/python3.8/site-packages/urllib3/connection.py\u001b[0m in \u001b[0;36m_new_conn\u001b[0;34m(self)\u001b[0m\n\u001b[1;32m    185\u001b[0m         \u001b[0;32mexcept\u001b[0m \u001b[0mSocketError\u001b[0m \u001b[0;32mas\u001b[0m \u001b[0me\u001b[0m\u001b[0;34m:\u001b[0m\u001b[0;34m\u001b[0m\u001b[0;34m\u001b[0m\u001b[0m\n\u001b[0;32m--> 186\u001b[0;31m             raise NewConnectionError(\n\u001b[0m\u001b[1;32m    187\u001b[0m                 \u001b[0mself\u001b[0m\u001b[0;34m,\u001b[0m \u001b[0;34m\"Failed to establish a new connection: %s\"\u001b[0m \u001b[0;34m%\u001b[0m \u001b[0me\u001b[0m\u001b[0;34m\u001b[0m\u001b[0;34m\u001b[0m\u001b[0m\n",
      "\u001b[0;31mNewConnectionError\u001b[0m: <urllib3.connection.HTTPConnection object at 0x7f6a8dbdf3a0>: Failed to establish a new connection: [Errno -3] Temporary failure in name resolution",
      "\nDuring handling of the above exception, another exception occurred:\n",
      "\u001b[0;31mMaxRetryError\u001b[0m                             Traceback (most recent call last)",
      "\u001b[0;32m~/anaconda3/envs/IST_DL21_Env/lib/python3.8/site-packages/requests/adapters.py\u001b[0m in \u001b[0;36msend\u001b[0;34m(self, request, stream, timeout, verify, cert, proxies)\u001b[0m\n\u001b[1;32m    438\u001b[0m             \u001b[0;32mif\u001b[0m \u001b[0;32mnot\u001b[0m \u001b[0mchunked\u001b[0m\u001b[0;34m:\u001b[0m\u001b[0;34m\u001b[0m\u001b[0;34m\u001b[0m\u001b[0m\n\u001b[0;32m--> 439\u001b[0;31m                 resp = conn.urlopen(\n\u001b[0m\u001b[1;32m    440\u001b[0m                     \u001b[0mmethod\u001b[0m\u001b[0;34m=\u001b[0m\u001b[0mrequest\u001b[0m\u001b[0;34m.\u001b[0m\u001b[0mmethod\u001b[0m\u001b[0;34m,\u001b[0m\u001b[0;34m\u001b[0m\u001b[0;34m\u001b[0m\u001b[0m\n",
      "\u001b[0;32m~/anaconda3/envs/IST_DL21_Env/lib/python3.8/site-packages/urllib3/connectionpool.py\u001b[0m in \u001b[0;36murlopen\u001b[0;34m(self, method, url, body, headers, retries, redirect, assert_same_host, timeout, pool_timeout, release_conn, chunked, body_pos, **response_kw)\u001b[0m\n\u001b[1;32m    754\u001b[0m \u001b[0;34m\u001b[0m\u001b[0m\n\u001b[0;32m--> 755\u001b[0;31m             retries = retries.increment(\n\u001b[0m\u001b[1;32m    756\u001b[0m                 \u001b[0mmethod\u001b[0m\u001b[0;34m,\u001b[0m \u001b[0murl\u001b[0m\u001b[0;34m,\u001b[0m \u001b[0merror\u001b[0m\u001b[0;34m=\u001b[0m\u001b[0me\u001b[0m\u001b[0;34m,\u001b[0m \u001b[0m_pool\u001b[0m\u001b[0;34m=\u001b[0m\u001b[0mself\u001b[0m\u001b[0;34m,\u001b[0m \u001b[0m_stacktrace\u001b[0m\u001b[0;34m=\u001b[0m\u001b[0msys\u001b[0m\u001b[0;34m.\u001b[0m\u001b[0mexc_info\u001b[0m\u001b[0;34m(\u001b[0m\u001b[0;34m)\u001b[0m\u001b[0;34m[\u001b[0m\u001b[0;36m2\u001b[0m\u001b[0;34m]\u001b[0m\u001b[0;34m\u001b[0m\u001b[0;34m\u001b[0m\u001b[0m\n",
      "\u001b[0;32m~/anaconda3/envs/IST_DL21_Env/lib/python3.8/site-packages/urllib3/util/retry.py\u001b[0m in \u001b[0;36mincrement\u001b[0;34m(self, method, url, response, error, _pool, _stacktrace)\u001b[0m\n\u001b[1;32m    573\u001b[0m         \u001b[0;32mif\u001b[0m \u001b[0mnew_retry\u001b[0m\u001b[0;34m.\u001b[0m\u001b[0mis_exhausted\u001b[0m\u001b[0;34m(\u001b[0m\u001b[0;34m)\u001b[0m\u001b[0;34m:\u001b[0m\u001b[0;34m\u001b[0m\u001b[0;34m\u001b[0m\u001b[0m\n\u001b[0;32m--> 574\u001b[0;31m             \u001b[0;32mraise\u001b[0m \u001b[0mMaxRetryError\u001b[0m\u001b[0;34m(\u001b[0m\u001b[0m_pool\u001b[0m\u001b[0;34m,\u001b[0m \u001b[0murl\u001b[0m\u001b[0;34m,\u001b[0m \u001b[0merror\u001b[0m \u001b[0;32mor\u001b[0m \u001b[0mResponseError\u001b[0m\u001b[0;34m(\u001b[0m\u001b[0mcause\u001b[0m\u001b[0;34m)\u001b[0m\u001b[0;34m)\u001b[0m\u001b[0;34m\u001b[0m\u001b[0;34m\u001b[0m\u001b[0m\n\u001b[0m\u001b[1;32m    575\u001b[0m \u001b[0;34m\u001b[0m\u001b[0m\n",
      "\u001b[0;31mMaxRetryError\u001b[0m: HTTPConnectionPool(host='images.cocodataset.org', port=80): Max retries exceeded with url: /val2017/000000039769.jpg (Caused by NewConnectionError('<urllib3.connection.HTTPConnection object at 0x7f6a8dbdf3a0>: Failed to establish a new connection: [Errno -3] Temporary failure in name resolution'))",
      "\nDuring handling of the above exception, another exception occurred:\n",
      "\u001b[0;31mConnectionError\u001b[0m                           Traceback (most recent call last)",
      "\u001b[0;32m/tmp/ipykernel_4922/3777712819.py\u001b[0m in \u001b[0;36m<module>\u001b[0;34m\u001b[0m\n\u001b[1;32m      4\u001b[0m \u001b[0;34m\u001b[0m\u001b[0m\n\u001b[1;32m      5\u001b[0m \u001b[0murl\u001b[0m \u001b[0;34m=\u001b[0m \u001b[0;34m\"http://images.cocodataset.org/val2017/000000039769.jpg\"\u001b[0m\u001b[0;34m\u001b[0m\u001b[0;34m\u001b[0m\u001b[0m\n\u001b[0;32m----> 6\u001b[0;31m \u001b[0mimage\u001b[0m \u001b[0;34m=\u001b[0m \u001b[0mImage\u001b[0m\u001b[0;34m.\u001b[0m\u001b[0mopen\u001b[0m\u001b[0;34m(\u001b[0m\u001b[0mrequests\u001b[0m\u001b[0;34m.\u001b[0m\u001b[0mget\u001b[0m\u001b[0;34m(\u001b[0m\u001b[0murl\u001b[0m\u001b[0;34m,\u001b[0m \u001b[0mstream\u001b[0m\u001b[0;34m=\u001b[0m\u001b[0;32mTrue\u001b[0m\u001b[0;34m)\u001b[0m\u001b[0;34m.\u001b[0m\u001b[0mraw\u001b[0m\u001b[0;34m)\u001b[0m\u001b[0;34m\u001b[0m\u001b[0;34m\u001b[0m\u001b[0m\n\u001b[0m\u001b[1;32m      7\u001b[0m \u001b[0mimage_tensor\u001b[0m \u001b[0;34m=\u001b[0m \u001b[0mTF\u001b[0m\u001b[0;34m.\u001b[0m\u001b[0mto_tensor\u001b[0m\u001b[0;34m(\u001b[0m\u001b[0mimage\u001b[0m\u001b[0;34m)\u001b[0m\u001b[0;34m\u001b[0m\u001b[0;34m\u001b[0m\u001b[0m\n\u001b[1;32m      8\u001b[0m image_tensor = torch.permute(\n",
      "\u001b[0;32m~/anaconda3/envs/IST_DL21_Env/lib/python3.8/site-packages/requests/api.py\u001b[0m in \u001b[0;36mget\u001b[0;34m(url, params, **kwargs)\u001b[0m\n\u001b[1;32m     73\u001b[0m     \"\"\"\n\u001b[1;32m     74\u001b[0m \u001b[0;34m\u001b[0m\u001b[0m\n\u001b[0;32m---> 75\u001b[0;31m     \u001b[0;32mreturn\u001b[0m \u001b[0mrequest\u001b[0m\u001b[0;34m(\u001b[0m\u001b[0;34m'get'\u001b[0m\u001b[0;34m,\u001b[0m \u001b[0murl\u001b[0m\u001b[0;34m,\u001b[0m \u001b[0mparams\u001b[0m\u001b[0;34m=\u001b[0m\u001b[0mparams\u001b[0m\u001b[0;34m,\u001b[0m \u001b[0;34m**\u001b[0m\u001b[0mkwargs\u001b[0m\u001b[0;34m)\u001b[0m\u001b[0;34m\u001b[0m\u001b[0;34m\u001b[0m\u001b[0m\n\u001b[0m\u001b[1;32m     76\u001b[0m \u001b[0;34m\u001b[0m\u001b[0m\n\u001b[1;32m     77\u001b[0m \u001b[0;34m\u001b[0m\u001b[0m\n",
      "\u001b[0;32m~/anaconda3/envs/IST_DL21_Env/lib/python3.8/site-packages/requests/api.py\u001b[0m in \u001b[0;36mrequest\u001b[0;34m(method, url, **kwargs)\u001b[0m\n\u001b[1;32m     59\u001b[0m     \u001b[0;31m# cases, and look like a memory leak in others.\u001b[0m\u001b[0;34m\u001b[0m\u001b[0;34m\u001b[0m\u001b[0;34m\u001b[0m\u001b[0m\n\u001b[1;32m     60\u001b[0m     \u001b[0;32mwith\u001b[0m \u001b[0msessions\u001b[0m\u001b[0;34m.\u001b[0m\u001b[0mSession\u001b[0m\u001b[0;34m(\u001b[0m\u001b[0;34m)\u001b[0m \u001b[0;32mas\u001b[0m \u001b[0msession\u001b[0m\u001b[0;34m:\u001b[0m\u001b[0;34m\u001b[0m\u001b[0;34m\u001b[0m\u001b[0m\n\u001b[0;32m---> 61\u001b[0;31m         \u001b[0;32mreturn\u001b[0m \u001b[0msession\u001b[0m\u001b[0;34m.\u001b[0m\u001b[0mrequest\u001b[0m\u001b[0;34m(\u001b[0m\u001b[0mmethod\u001b[0m\u001b[0;34m=\u001b[0m\u001b[0mmethod\u001b[0m\u001b[0;34m,\u001b[0m \u001b[0murl\u001b[0m\u001b[0;34m=\u001b[0m\u001b[0murl\u001b[0m\u001b[0;34m,\u001b[0m \u001b[0;34m**\u001b[0m\u001b[0mkwargs\u001b[0m\u001b[0;34m)\u001b[0m\u001b[0;34m\u001b[0m\u001b[0;34m\u001b[0m\u001b[0m\n\u001b[0m\u001b[1;32m     62\u001b[0m \u001b[0;34m\u001b[0m\u001b[0m\n\u001b[1;32m     63\u001b[0m \u001b[0;34m\u001b[0m\u001b[0m\n",
      "\u001b[0;32m~/anaconda3/envs/IST_DL21_Env/lib/python3.8/site-packages/requests/sessions.py\u001b[0m in \u001b[0;36mrequest\u001b[0;34m(self, method, url, params, data, headers, cookies, files, auth, timeout, allow_redirects, proxies, hooks, stream, verify, cert, json)\u001b[0m\n\u001b[1;32m    540\u001b[0m         }\n\u001b[1;32m    541\u001b[0m         \u001b[0msend_kwargs\u001b[0m\u001b[0;34m.\u001b[0m\u001b[0mupdate\u001b[0m\u001b[0;34m(\u001b[0m\u001b[0msettings\u001b[0m\u001b[0;34m)\u001b[0m\u001b[0;34m\u001b[0m\u001b[0;34m\u001b[0m\u001b[0m\n\u001b[0;32m--> 542\u001b[0;31m         \u001b[0mresp\u001b[0m \u001b[0;34m=\u001b[0m \u001b[0mself\u001b[0m\u001b[0;34m.\u001b[0m\u001b[0msend\u001b[0m\u001b[0;34m(\u001b[0m\u001b[0mprep\u001b[0m\u001b[0;34m,\u001b[0m \u001b[0;34m**\u001b[0m\u001b[0msend_kwargs\u001b[0m\u001b[0;34m)\u001b[0m\u001b[0;34m\u001b[0m\u001b[0;34m\u001b[0m\u001b[0m\n\u001b[0m\u001b[1;32m    543\u001b[0m \u001b[0;34m\u001b[0m\u001b[0m\n\u001b[1;32m    544\u001b[0m         \u001b[0;32mreturn\u001b[0m \u001b[0mresp\u001b[0m\u001b[0;34m\u001b[0m\u001b[0;34m\u001b[0m\u001b[0m\n",
      "\u001b[0;32m~/anaconda3/envs/IST_DL21_Env/lib/python3.8/site-packages/requests/sessions.py\u001b[0m in \u001b[0;36msend\u001b[0;34m(self, request, **kwargs)\u001b[0m\n\u001b[1;32m    653\u001b[0m \u001b[0;34m\u001b[0m\u001b[0m\n\u001b[1;32m    654\u001b[0m         \u001b[0;31m# Send the request\u001b[0m\u001b[0;34m\u001b[0m\u001b[0;34m\u001b[0m\u001b[0;34m\u001b[0m\u001b[0m\n\u001b[0;32m--> 655\u001b[0;31m         \u001b[0mr\u001b[0m \u001b[0;34m=\u001b[0m \u001b[0madapter\u001b[0m\u001b[0;34m.\u001b[0m\u001b[0msend\u001b[0m\u001b[0;34m(\u001b[0m\u001b[0mrequest\u001b[0m\u001b[0;34m,\u001b[0m \u001b[0;34m**\u001b[0m\u001b[0mkwargs\u001b[0m\u001b[0;34m)\u001b[0m\u001b[0;34m\u001b[0m\u001b[0;34m\u001b[0m\u001b[0m\n\u001b[0m\u001b[1;32m    656\u001b[0m \u001b[0;34m\u001b[0m\u001b[0m\n\u001b[1;32m    657\u001b[0m         \u001b[0;31m# Total elapsed time of the request (approximately)\u001b[0m\u001b[0;34m\u001b[0m\u001b[0;34m\u001b[0m\u001b[0;34m\u001b[0m\u001b[0m\n",
      "\u001b[0;32m~/anaconda3/envs/IST_DL21_Env/lib/python3.8/site-packages/requests/adapters.py\u001b[0m in \u001b[0;36msend\u001b[0;34m(self, request, stream, timeout, verify, cert, proxies)\u001b[0m\n\u001b[1;32m    514\u001b[0m                 \u001b[0;32mraise\u001b[0m \u001b[0mSSLError\u001b[0m\u001b[0;34m(\u001b[0m\u001b[0me\u001b[0m\u001b[0;34m,\u001b[0m \u001b[0mrequest\u001b[0m\u001b[0;34m=\u001b[0m\u001b[0mrequest\u001b[0m\u001b[0;34m)\u001b[0m\u001b[0;34m\u001b[0m\u001b[0;34m\u001b[0m\u001b[0m\n\u001b[1;32m    515\u001b[0m \u001b[0;34m\u001b[0m\u001b[0m\n\u001b[0;32m--> 516\u001b[0;31m             \u001b[0;32mraise\u001b[0m \u001b[0mConnectionError\u001b[0m\u001b[0;34m(\u001b[0m\u001b[0me\u001b[0m\u001b[0;34m,\u001b[0m \u001b[0mrequest\u001b[0m\u001b[0;34m=\u001b[0m\u001b[0mrequest\u001b[0m\u001b[0;34m)\u001b[0m\u001b[0;34m\u001b[0m\u001b[0;34m\u001b[0m\u001b[0m\n\u001b[0m\u001b[1;32m    517\u001b[0m \u001b[0;34m\u001b[0m\u001b[0m\n\u001b[1;32m    518\u001b[0m         \u001b[0;32mexcept\u001b[0m \u001b[0mClosedPoolError\u001b[0m \u001b[0;32mas\u001b[0m \u001b[0me\u001b[0m\u001b[0;34m:\u001b[0m\u001b[0;34m\u001b[0m\u001b[0;34m\u001b[0m\u001b[0m\n",
      "\u001b[0;31mConnectionError\u001b[0m: HTTPConnectionPool(host='images.cocodataset.org', port=80): Max retries exceeded with url: /val2017/000000039769.jpg (Caused by NewConnectionError('<urllib3.connection.HTTPConnection object at 0x7f6a8dbdf3a0>: Failed to establish a new connection: [Errno -3] Temporary failure in name resolution'))"
     ]
    }
   ],
   "source": [
    "from PIL import Image\n",
    "import torchvision.transforms.functional as TF\n",
    "import requests\n",
    "\n",
    "url = \"http://images.cocodataset.org/val2017/000000039769.jpg\"\n",
    "image = Image.open(requests.get(url, stream=True).raw)\n",
    "image_tensor = TF.to_tensor(image)\n",
    "image_tensor = torch.permute(\n",
    "    image_tensor,\n",
    "    [1, 2, 0]) # make the color dimention the last one.\n",
    "print(\"shape\", image_tensor.shape)\n",
    "plt.imshow(image_tensor)\n",
    "plt.show()"
   ]
  },
  {
   "cell_type": "markdown",
   "id": "9f476c20",
   "metadata": {},
   "source": [
    "Imagine now you want to represent a batch of images. Ex: for each iteration, 10 training examples of images."
   ]
  },
  {
   "cell_type": "code",
   "execution_count": null,
   "id": "c2c4e702",
   "metadata": {},
   "outputs": [],
   "source": [
    "urls = [\"http://images.cocodataset.org/val2017/000000039769.jpg\", \n",
    "        \"http://images.cocodataset.org/val2017/000000039769.jpg\"]\n",
    "#all_images=torch.tensor([])\n",
    "batched_images = [] \n",
    "for url in urls:\n",
    "    image = Image.open(requests.get(url, stream=True).raw)\n",
    "    image_tensor = torch.permute(\n",
    "        TF.to_tensor(image),\n",
    "        [1,2,0]) # make dimention the last one. \n",
    "    batched_images.append( image_tensor )\n",
    "\n",
    "all_images = torch.stack(batched_images,axis=0) #concatenate in the first dim\n",
    "\n",
    "print(\"shape\", all_images.shape)\n"
   ]
  },
  {
   "cell_type": "markdown",
   "id": "26bc7dbb",
   "metadata": {},
   "source": [
    "# Indexing\n",
    "\n",
    "Indexing is similar to numpy, you can access values of specific row(s) and column(s). "
   ]
  },
  {
   "cell_type": "code",
   "execution_count": null,
   "id": "125669ae",
   "metadata": {},
   "outputs": [],
   "source": [
    "# = Matrix indexing = #\n",
    "A= torch.arange(1, 10).view(3, 3)\n",
    "print(\"A\",A)\n",
    "\n",
    "# Simple indexing\n",
    "print(\"\\nA[0]:\", A[0]) #indexing by row 0\n",
    "print(\"A[1]:\", A[1]) #indexing by row 1\n",
    "print(\"A[1, 2]:\", A[1, 2])  # indexing row 1 with column 2 (More efficient)\n",
    "print(\"A[0][2]:\", A[0][2])  # indexing row 0 with column 2 (Less efficient)\n",
    "\n",
    "# -- Slicing\n",
    "\n",
    "# Rows between 1 and 2 (excluding the latter), \n",
    "# columns between 0 and 1 (excluding the latter)\n",
    "print(\"A[1:2,0:1]:\", A[1:2, 0:1])\n",
    "\n",
    "# All rows except the last two,\n",
    "# every other column\n",
    "print(\"A[:-2,::2]:\", A[:-2, ::2]) \n",
    "\n",
    "# -- Tensors as indices\n",
    "#You can also do multi-index selection with gather\n",
    "indexes = torch.tensor([[0, 2, 2], \n",
    "                        [0, 1, 1], \n",
    "                        [2, 0, 1]])\n",
    "\n",
    "print(\"\\n\\nindexes\", indexes)\n",
    "\n",
    "indexed_dim1 = torch.gather(A, 1, indexes) # dim is 1\n",
    "print(\"\\nindexed_dim1\", indexed_dim1)\n",
    "\n",
    "indexed_dim0 = torch.gather(A, 0, indexes) # dim is 0\n",
    "print(\"indexed_dim1\", indexed_dim0)"
   ]
  },
  {
   "cell_type": "markdown",
   "id": "2825c5a5",
   "metadata": {},
   "source": [
    "# Operations"
   ]
  },
  {
   "cell_type": "markdown",
   "id": "3a2f12fc",
   "metadata": {},
   "source": [
    "### Elementwise operations"
   ]
  },
  {
   "cell_type": "code",
   "execution_count": null,
   "id": "88a3312d",
   "metadata": {},
   "outputs": [],
   "source": [
    "v1 = torch.arange(10)\n",
    "v2 = torch.arange(10, 20)\n",
    "print(\"v1\", v1)\n",
    "print(\"v2\",v2)"
   ]
  },
  {
   "cell_type": "code",
   "execution_count": null,
   "id": "d47f6b6c",
   "metadata": {},
   "outputs": [],
   "source": [
    "v1 + v2"
   ]
  },
  {
   "cell_type": "code",
   "execution_count": null,
   "id": "372a63ba",
   "metadata": {},
   "outputs": [],
   "source": [
    "v1 * v2"
   ]
  },
  {
   "cell_type": "markdown",
   "id": "e1844550",
   "metadata": {},
   "source": [
    "Torch supports true division between integer-valued tensors."
   ]
  },
  {
   "cell_type": "code",
   "execution_count": null,
   "id": "f733cf85",
   "metadata": {},
   "outputs": [],
   "source": [
    "v1 / v2"
   ]
  },
  {
   "cell_type": "markdown",
   "id": "f7520c00",
   "metadata": {},
   "source": [
    "Before PyTorch 1.7, dividing with integer tensors would do truncated division. If you still want this, you can run"
   ]
  },
  {
   "cell_type": "code",
   "execution_count": null,
   "id": "8b2c79d7",
   "metadata": {},
   "outputs": [],
   "source": [
    "torch.div(v1, v2, rounding_mode=\"trunc\")"
   ]
  },
  {
   "cell_type": "markdown",
   "id": "b5a135fa",
   "metadata": {},
   "source": [
    "#### Operations with constants"
   ]
  },
  {
   "cell_type": "code",
   "execution_count": null,
   "id": "6d26630b",
   "metadata": {},
   "outputs": [],
   "source": [
    "x"
   ]
  },
  {
   "cell_type": "code",
   "execution_count": null,
   "id": "8494011c",
   "metadata": {},
   "outputs": [],
   "source": [
    "x + 1"
   ]
  },
  {
   "cell_type": "code",
   "execution_count": null,
   "id": "8d9cd409",
   "metadata": {},
   "outputs": [],
   "source": [
    "x ** 2"
   ]
  },
  {
   "cell_type": "markdown",
   "id": "642069e0",
   "metadata": {},
   "source": [
    "#### Multiplication of matrices"
   ]
  },
  {
   "cell_type": "code",
   "execution_count": null,
   "id": "f02996ca",
   "metadata": {},
   "outputs": [],
   "source": [
    "m1 = torch.rand(5, 4)\n",
    "m2 = torch.rand(4, 5)\n",
    "\n",
    "print(\"m1: %s\\n\" % m1)\n",
    "print(\"m2: %s\\n\" % m2)\n",
    "print(m1.matmul(m2)) #dot is for numpy -> use matmul instead"
   ]
  },
  {
   "cell_type": "markdown",
   "id": "33ae0478",
   "metadata": {},
   "source": [
    "Oops... that can be misleading if you are used to numpy. Instead, call `matmul` (or `@`)"
   ]
  },
  {
   "cell_type": "code",
   "execution_count": null,
   "id": "88f6676b",
   "metadata": {
    "scrolled": true
   },
   "outputs": [],
   "source": [
    "print(m1 @ m2)"
   ]
  },
  {
   "cell_type": "markdown",
   "id": "7676ed34",
   "metadata": {},
   "source": [
    "`matmul` and `@` also support batching, so it is possible to multiply several pairs of matrices with a single function call."
   ]
  },
  {
   "cell_type": "code",
   "execution_count": null,
   "id": "d2276814",
   "metadata": {},
   "outputs": [],
   "source": [
    "B = 3\n",
    "M = 5\n",
    "N = 7\n",
    "P = 2\n",
    "\n",
    "m1 = torch.randn(B, M, N)\n",
    "m2 = torch.randn(B, N, P)\n",
    "\n",
    "prod = m1.matmul(m2)\n",
    "\n",
    "print(prod)\n",
    "print(prod.shape)"
   ]
  },
  {
   "cell_type": "markdown",
   "id": "954582ff",
   "metadata": {},
   "source": [
    "You can have more than one batch dimension as well:"
   ]
  },
  {
   "cell_type": "code",
   "execution_count": null,
   "id": "d4272647",
   "metadata": {},
   "outputs": [],
   "source": [
    "B1 = 2\n",
    "B2 = 3\n",
    "N = 5\n",
    "M = 7\n",
    "P = 11\n",
    "\n",
    "m1 = torch.rand(B1, B2, N, M)\n",
    "m2 = torch.rand(B1, B2, M, P)\n",
    "\n",
    "print(m1.matmul(m2).shape) "
   ]
  },
  {
   "cell_type": "markdown",
   "id": "7178b30b",
   "metadata": {},
   "source": [
    "Another option is to use the powerful `einsum` function. Let's say our input has the following representation:\n",
    "- `b` = batch size \n",
    "- `c` = channels\n",
    "- `i` = `m1` timesteps\n",
    "- `j` = `m2` timesteps\n",
    "- `d` = hidden size"
   ]
  },
  {
   "cell_type": "code",
   "execution_count": null,
   "id": "32d89955",
   "metadata": {
    "scrolled": true
   },
   "outputs": [],
   "source": [
    "torch.einsum('bcid,bcdj->bcij', m1, m2)"
   ]
  },
  {
   "cell_type": "markdown",
   "id": "0298cab5",
   "metadata": {},
   "source": [
    "Learn more about `einsum` here: https://pytorch.org/docs/master/generated/torch.einsum.html#torch.einsum"
   ]
  },
  {
   "cell_type": "markdown",
   "id": "f5e8305d",
   "metadata": {},
   "source": [
    "### Broadcasting\n",
    "\n",
    "Broadcasting means doing some arithmetic operation with tensors of different ranks, as if the smaller one were expanded, or broadcast, to match the larger.\n",
    "\n",
    "Let's experiment with a matrix (rank 2 tensor) and a vector (rank 1)."
   ]
  },
  {
   "cell_type": "code",
   "execution_count": null,
   "id": "0598a902",
   "metadata": {},
   "outputs": [],
   "source": [
    "m = torch.rand(5, 4)\n",
    "v = torch.arange(4)\n",
    "\n",
    "print(\"m:\", m)\n",
    "print(\"\\nv:\", v)"
   ]
  },
  {
   "cell_type": "code",
   "execution_count": null,
   "id": "fb424d1c",
   "metadata": {},
   "outputs": [],
   "source": [
    "m_plus_v = m + v\n",
    "print(\"m + v:\\n\", m_plus_v)"
   ]
  },
  {
   "cell_type": "markdown",
   "id": "1e6a115a",
   "metadata": {},
   "source": [
    "We can also reshape tensors (note that the function name is different from numpy)"
   ]
  },
  {
   "cell_type": "code",
   "execution_count": null,
   "id": "da70c554",
   "metadata": {},
   "outputs": [],
   "source": [
    "v = v.view(2, 2)\n",
    "v"
   ]
  },
  {
   "cell_type": "code",
   "execution_count": null,
   "id": "4f6a4581",
   "metadata": {},
   "outputs": [],
   "source": [
    "v = v.view(4, 1)\n",
    "v"
   ]
  },
  {
   "cell_type": "markdown",
   "id": "059b3b76",
   "metadata": {},
   "source": [
    "Note that shape `[4, 1]` is not broadcastable to match `[5, 4]`!"
   ]
  },
  {
   "cell_type": "code",
   "execution_count": null,
   "id": "0f6e30e8",
   "metadata": {},
   "outputs": [],
   "source": [
    "m + v"
   ]
  },
  {
   "cell_type": "markdown",
   "id": "e2fdbbbb",
   "metadata": {},
   "source": [
    "... but `[1, 4]` is!"
   ]
  },
  {
   "cell_type": "code",
   "execution_count": null,
   "id": "69da3879",
   "metadata": {},
   "outputs": [],
   "source": [
    "v = v.view(1, 4)\n",
    "m + v"
   ]
  },
  {
   "cell_type": "markdown",
   "id": "16130d2b",
   "metadata": {},
   "source": [
    "Two tensors are “broadcastable” if the following rules hold:\n",
    "\n",
    "- Each tensor has at least one dimension.\n",
    "\n",
    "- When iterating over the dimension sizes, starting at the trailing dimension, the dimension sizes must either be equal, one of them is 1, or one of them does not exist."
   ]
  },
  {
   "cell_type": "code",
   "execution_count": null,
   "id": "374ac4e2",
   "metadata": {},
   "outputs": [],
   "source": [
    "x = torch.rand(5, 7, 3)\n",
    "y = torch.rand(5, 7, 3)\n",
    "z = x + y\n",
    "# same shapes are always broadcastable (i.e. the above rules always hold)"
   ]
  },
  {
   "cell_type": "code",
   "execution_count": null,
   "id": "f473cfeb",
   "metadata": {},
   "outputs": [],
   "source": [
    "x = torch.rand((0,))\n",
    "y = torch.rand(2,2)\n",
    "z = x + y\n",
    "# x and y are not broadcastable, because x does not have at least 1 dimension"
   ]
  },
  {
   "cell_type": "code",
   "execution_count": null,
   "id": "dfae4916",
   "metadata": {},
   "outputs": [],
   "source": [
    "# can line up trailing dimensions\n",
    "x = torch.empty(5,3,4,1)\n",
    "y = torch.empty(  3,1,1)\n",
    "z = x + y\n",
    "# x and y are broadcastable.\n",
    "# 1st trailing dimension: both have size 1\n",
    "# 2nd trailing dimension: y has size 1\n",
    "# 3rd trailing dimension: x size == y size\n",
    "# 4th trailing dimension: y dimension doesn't exist"
   ]
  },
  {
   "cell_type": "code",
   "execution_count": null,
   "id": "d97a3a7a",
   "metadata": {},
   "outputs": [],
   "source": [
    "# but:\n",
    "x = torch.empty(5,2,4,1)\n",
    "y = torch.empty(  3,1,1)\n",
    "z = x + y\n",
    "# x and y are not broadcastable, because in the 3rd trailing dimension 2 != 3"
   ]
  },
  {
   "cell_type": "markdown",
   "id": "877b7b05",
   "metadata": {},
   "source": [
    "Always take care with tensor shapes! It is a good practice to verify in the interpreter how some expression is evaluated before inserting into your model code. \n",
    "\n",
    "In other words, **you can use pytorch's dynamic graph creation ability to debug your model by printing tensor shapes!**\n",
    "\n",
    "And see more about broadcasting here: https://pytorch.org/docs/master/notes/broadcasting.html"
   ]
  },
  {
   "cell_type": "markdown",
   "id": "ecabe4a5",
   "metadata": {},
   "source": [
    "# But what about GPUs?\n",
    "\n",
    "You can change default device of cpu to GPU, if you have one. "
   ]
  },
  {
   "cell_type": "code",
   "execution_count": null,
   "id": "ec0734ba",
   "metadata": {},
   "outputs": [],
   "source": [
    "my_device = torch.device(\"cuda:0\" if torch.cuda.is_available() else \"cpu\")\n",
    "print(\"my_device:\", my_device)\n",
    "\n",
    "x = torch.eye(3)  # data is on the cpu \n",
    "print(\"By default device tensor is stored on:\", x.device)\n",
    "\n",
    "# you can move data to the GPU by doing .to(device)\n",
    "x=x.to(my_device)  # data is moved to my_device\n",
    "print(\"\\nDevice tensor is now stored on:\", x.device) #it will still be cpu if you don't have gpu"
   ]
  },
  {
   "cell_type": "markdown",
   "id": "091bc351",
   "metadata": {},
   "source": [
    "If you have a GPU you should get something like: \n",
    "`device(type='cuda', index=0)` -> now the computation happens on the GPU."
   ]
  },
  {
   "cell_type": "markdown",
   "id": "a5654e74",
   "metadata": {},
   "source": [
    "# Tutorials: \n",
    "\n",
    "Get familiar with pytorch with more tutorials: \n",
    "- https://pytorch.org/tutorials/beginner/deep_learning_60min_blitz.html\n",
    "- https://machinelearningmastery.com/pytorch-tutorial-develop-deep-learning-models/"
   ]
  }
 ],
 "metadata": {
  "kernelspec": {
   "display_name": "Python 3",
   "language": "python",
   "name": "python3"
  },
  "language_info": {
   "codemirror_mode": {
    "name": "ipython",
    "version": 3
   },
   "file_extension": ".py",
   "mimetype": "text/x-python",
   "name": "python",
   "nbconvert_exporter": "python",
   "pygments_lexer": "ipython3",
   "version": "3.10.1 (tags/v3.10.1:2cd268a, Dec  6 2021, 19:10:37) [MSC v.1929 64 bit (AMD64)]"
  },
  "vscode": {
   "interpreter": {
    "hash": "b39c145c8e3764e8b6891ebe81033918e6f24cf7cf44edfc6f4ba442ee92d3f4"
   }
  }
 },
 "nbformat": 4,
 "nbformat_minor": 5
}
